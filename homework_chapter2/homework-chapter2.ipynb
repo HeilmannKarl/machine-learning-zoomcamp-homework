{
 "cells": [
  {
   "cell_type": "markdown",
   "id": "1c2fac3a-c9ad-43ac-90e9-a68231ca2f32",
   "metadata": {},
   "source": [
    "# Homework Chapter 2"
   ]
  },
  {
   "cell_type": "markdown",
   "id": "a269143b-9716-477a-8eb5-7ad552bfce0d",
   "metadata": {},
   "source": [
    "## Getting test data"
   ]
  },
  {
   "cell_type": "code",
   "execution_count": 134,
   "id": "3ad882fd-8fab-4aa8-ac1b-73b88d2fef66",
   "metadata": {},
   "outputs": [],
   "source": [
    "import wget\n",
    "import pandas as pd\n",
    "import numpy as np\n",
    "import matplotlib.pyplot as plt\n",
    "import seaborn as sns\n",
    "\n",
    "%matplotlib inline"
   ]
  },
  {
   "cell_type": "code",
   "execution_count": 135,
   "id": "6be9ddbd-214c-4fd5-b6df-11a7263c1c58",
   "metadata": {},
   "outputs": [
    {
     "name": "stdout",
     "output_type": "stream",
     "text": [
      "100% [............................................................................] 298573 / 298573"
     ]
    }
   ],
   "source": [
    "laptop_price_file = wget.download('https://raw.githubusercontent.com/alexeygrigorev/datasets/master/laptops.csv')"
   ]
  },
  {
   "cell_type": "code",
   "execution_count": 136,
   "id": "8fe58cf2-747c-4b2d-88e7-ade144b54902",
   "metadata": {},
   "outputs": [
    {
     "data": {
      "text/html": [
       "<div>\n",
       "<style scoped>\n",
       "    .dataframe tbody tr th:only-of-type {\n",
       "        vertical-align: middle;\n",
       "    }\n",
       "\n",
       "    .dataframe tbody tr th {\n",
       "        vertical-align: top;\n",
       "    }\n",
       "\n",
       "    .dataframe thead th {\n",
       "        text-align: right;\n",
       "    }\n",
       "</style>\n",
       "<table border=\"1\" class=\"dataframe\">\n",
       "  <thead>\n",
       "    <tr style=\"text-align: right;\">\n",
       "      <th></th>\n",
       "      <th>Laptop</th>\n",
       "      <th>Status</th>\n",
       "      <th>Brand</th>\n",
       "      <th>Model</th>\n",
       "      <th>CPU</th>\n",
       "      <th>RAM</th>\n",
       "      <th>Storage</th>\n",
       "      <th>Storage type</th>\n",
       "      <th>GPU</th>\n",
       "      <th>Screen</th>\n",
       "      <th>Touch</th>\n",
       "      <th>Final Price</th>\n",
       "    </tr>\n",
       "  </thead>\n",
       "  <tbody>\n",
       "    <tr>\n",
       "      <th>0</th>\n",
       "      <td>ASUS ExpertBook B1 B1502CBA-EJ0436X Intel Core...</td>\n",
       "      <td>New</td>\n",
       "      <td>Asus</td>\n",
       "      <td>ExpertBook</td>\n",
       "      <td>Intel Core i5</td>\n",
       "      <td>8</td>\n",
       "      <td>512</td>\n",
       "      <td>SSD</td>\n",
       "      <td>NaN</td>\n",
       "      <td>15.6</td>\n",
       "      <td>No</td>\n",
       "      <td>1009.00</td>\n",
       "    </tr>\n",
       "    <tr>\n",
       "      <th>1</th>\n",
       "      <td>Alurin Go Start Intel Celeron N4020/8GB/256GB ...</td>\n",
       "      <td>New</td>\n",
       "      <td>Alurin</td>\n",
       "      <td>Go</td>\n",
       "      <td>Intel Celeron</td>\n",
       "      <td>8</td>\n",
       "      <td>256</td>\n",
       "      <td>SSD</td>\n",
       "      <td>NaN</td>\n",
       "      <td>15.6</td>\n",
       "      <td>No</td>\n",
       "      <td>299.00</td>\n",
       "    </tr>\n",
       "    <tr>\n",
       "      <th>2</th>\n",
       "      <td>ASUS ExpertBook B1 B1502CBA-EJ0424X Intel Core...</td>\n",
       "      <td>New</td>\n",
       "      <td>Asus</td>\n",
       "      <td>ExpertBook</td>\n",
       "      <td>Intel Core i3</td>\n",
       "      <td>8</td>\n",
       "      <td>256</td>\n",
       "      <td>SSD</td>\n",
       "      <td>NaN</td>\n",
       "      <td>15.6</td>\n",
       "      <td>No</td>\n",
       "      <td>789.00</td>\n",
       "    </tr>\n",
       "    <tr>\n",
       "      <th>3</th>\n",
       "      <td>MSI Katana GF66 12UC-082XES Intel Core i7-1270...</td>\n",
       "      <td>New</td>\n",
       "      <td>MSI</td>\n",
       "      <td>Katana</td>\n",
       "      <td>Intel Core i7</td>\n",
       "      <td>16</td>\n",
       "      <td>1000</td>\n",
       "      <td>SSD</td>\n",
       "      <td>RTX 3050</td>\n",
       "      <td>15.6</td>\n",
       "      <td>No</td>\n",
       "      <td>1199.00</td>\n",
       "    </tr>\n",
       "    <tr>\n",
       "      <th>4</th>\n",
       "      <td>HP 15S-FQ5085NS Intel Core i5-1235U/16GB/512GB...</td>\n",
       "      <td>New</td>\n",
       "      <td>HP</td>\n",
       "      <td>15S</td>\n",
       "      <td>Intel Core i5</td>\n",
       "      <td>16</td>\n",
       "      <td>512</td>\n",
       "      <td>SSD</td>\n",
       "      <td>NaN</td>\n",
       "      <td>15.6</td>\n",
       "      <td>No</td>\n",
       "      <td>669.01</td>\n",
       "    </tr>\n",
       "    <tr>\n",
       "      <th>...</th>\n",
       "      <td>...</td>\n",
       "      <td>...</td>\n",
       "      <td>...</td>\n",
       "      <td>...</td>\n",
       "      <td>...</td>\n",
       "      <td>...</td>\n",
       "      <td>...</td>\n",
       "      <td>...</td>\n",
       "      <td>...</td>\n",
       "      <td>...</td>\n",
       "      <td>...</td>\n",
       "      <td>...</td>\n",
       "    </tr>\n",
       "    <tr>\n",
       "      <th>2155</th>\n",
       "      <td>Razer Blade 17 FHD 360Hz Intel Core i7-11800H/...</td>\n",
       "      <td>Refurbished</td>\n",
       "      <td>Razer</td>\n",
       "      <td>Blade</td>\n",
       "      <td>Intel Core i7</td>\n",
       "      <td>16</td>\n",
       "      <td>1000</td>\n",
       "      <td>SSD</td>\n",
       "      <td>RTX 3060</td>\n",
       "      <td>17.3</td>\n",
       "      <td>No</td>\n",
       "      <td>2699.99</td>\n",
       "    </tr>\n",
       "    <tr>\n",
       "      <th>2156</th>\n",
       "      <td>Razer Blade 17 FHD 360Hz Intel Core i7-11800H/...</td>\n",
       "      <td>Refurbished</td>\n",
       "      <td>Razer</td>\n",
       "      <td>Blade</td>\n",
       "      <td>Intel Core i7</td>\n",
       "      <td>16</td>\n",
       "      <td>1000</td>\n",
       "      <td>SSD</td>\n",
       "      <td>RTX 3070</td>\n",
       "      <td>17.3</td>\n",
       "      <td>No</td>\n",
       "      <td>2899.99</td>\n",
       "    </tr>\n",
       "    <tr>\n",
       "      <th>2157</th>\n",
       "      <td>Razer Blade 17 FHD 360Hz Intel Core i7-11800H/...</td>\n",
       "      <td>Refurbished</td>\n",
       "      <td>Razer</td>\n",
       "      <td>Blade</td>\n",
       "      <td>Intel Core i7</td>\n",
       "      <td>32</td>\n",
       "      <td>1000</td>\n",
       "      <td>SSD</td>\n",
       "      <td>RTX 3080</td>\n",
       "      <td>17.3</td>\n",
       "      <td>No</td>\n",
       "      <td>3399.99</td>\n",
       "    </tr>\n",
       "    <tr>\n",
       "      <th>2158</th>\n",
       "      <td>Razer Book 13 Intel Evo Core i7-1165G7/16GB/1T...</td>\n",
       "      <td>Refurbished</td>\n",
       "      <td>Razer</td>\n",
       "      <td>Book</td>\n",
       "      <td>Intel Evo Core i7</td>\n",
       "      <td>16</td>\n",
       "      <td>1000</td>\n",
       "      <td>SSD</td>\n",
       "      <td>NaN</td>\n",
       "      <td>13.4</td>\n",
       "      <td>Yes</td>\n",
       "      <td>1899.99</td>\n",
       "    </tr>\n",
       "    <tr>\n",
       "      <th>2159</th>\n",
       "      <td>Razer Book FHD+ Intel Evo Core i7-1165G7/16GB/...</td>\n",
       "      <td>Refurbished</td>\n",
       "      <td>Razer</td>\n",
       "      <td>Book</td>\n",
       "      <td>Intel Evo Core i7</td>\n",
       "      <td>16</td>\n",
       "      <td>256</td>\n",
       "      <td>SSD</td>\n",
       "      <td>NaN</td>\n",
       "      <td>13.4</td>\n",
       "      <td>Yes</td>\n",
       "      <td>1699.99</td>\n",
       "    </tr>\n",
       "  </tbody>\n",
       "</table>\n",
       "<p>2160 rows × 12 columns</p>\n",
       "</div>"
      ],
      "text/plain": [
       "                                                 Laptop       Status   Brand  \\\n",
       "0     ASUS ExpertBook B1 B1502CBA-EJ0436X Intel Core...          New    Asus   \n",
       "1     Alurin Go Start Intel Celeron N4020/8GB/256GB ...          New  Alurin   \n",
       "2     ASUS ExpertBook B1 B1502CBA-EJ0424X Intel Core...          New    Asus   \n",
       "3     MSI Katana GF66 12UC-082XES Intel Core i7-1270...          New     MSI   \n",
       "4     HP 15S-FQ5085NS Intel Core i5-1235U/16GB/512GB...          New      HP   \n",
       "...                                                 ...          ...     ...   \n",
       "2155  Razer Blade 17 FHD 360Hz Intel Core i7-11800H/...  Refurbished   Razer   \n",
       "2156  Razer Blade 17 FHD 360Hz Intel Core i7-11800H/...  Refurbished   Razer   \n",
       "2157  Razer Blade 17 FHD 360Hz Intel Core i7-11800H/...  Refurbished   Razer   \n",
       "2158  Razer Book 13 Intel Evo Core i7-1165G7/16GB/1T...  Refurbished   Razer   \n",
       "2159  Razer Book FHD+ Intel Evo Core i7-1165G7/16GB/...  Refurbished   Razer   \n",
       "\n",
       "           Model                CPU  RAM  Storage Storage type       GPU  \\\n",
       "0     ExpertBook      Intel Core i5    8      512          SSD       NaN   \n",
       "1             Go      Intel Celeron    8      256          SSD       NaN   \n",
       "2     ExpertBook      Intel Core i3    8      256          SSD       NaN   \n",
       "3         Katana      Intel Core i7   16     1000          SSD  RTX 3050   \n",
       "4            15S      Intel Core i5   16      512          SSD       NaN   \n",
       "...          ...                ...  ...      ...          ...       ...   \n",
       "2155       Blade      Intel Core i7   16     1000          SSD  RTX 3060   \n",
       "2156       Blade      Intel Core i7   16     1000          SSD  RTX 3070   \n",
       "2157       Blade      Intel Core i7   32     1000          SSD  RTX 3080   \n",
       "2158        Book  Intel Evo Core i7   16     1000          SSD       NaN   \n",
       "2159        Book  Intel Evo Core i7   16      256          SSD       NaN   \n",
       "\n",
       "      Screen Touch  Final Price  \n",
       "0       15.6    No      1009.00  \n",
       "1       15.6    No       299.00  \n",
       "2       15.6    No       789.00  \n",
       "3       15.6    No      1199.00  \n",
       "4       15.6    No       669.01  \n",
       "...      ...   ...          ...  \n",
       "2155    17.3    No      2699.99  \n",
       "2156    17.3    No      2899.99  \n",
       "2157    17.3    No      3399.99  \n",
       "2158    13.4   Yes      1899.99  \n",
       "2159    13.4   Yes      1699.99  \n",
       "\n",
       "[2160 rows x 12 columns]"
      ]
     },
     "execution_count": 136,
     "metadata": {},
     "output_type": "execute_result"
    }
   ],
   "source": [
    "df = pd.read_csv(laptop_price_file, delimiter=',', header='infer') \n",
    "df"
   ]
  },
  {
   "cell_type": "markdown",
   "id": "15437e84-63c6-4c6b-b50c-ce7dbc11df85",
   "metadata": {},
   "source": [
    "## Data Preparation"
   ]
  },
  {
   "cell_type": "markdown",
   "id": "1a801340-4be4-4b9a-bfa8-ea7b91dc3bf3",
   "metadata": {},
   "source": [
    "### Data normalization"
   ]
  },
  {
   "cell_type": "code",
   "execution_count": 137,
   "id": "19943081-7451-4f9e-aa7e-2bb7e7c6105b",
   "metadata": {},
   "outputs": [],
   "source": [
    "df.columns = df.columns.str.lower().str.replace(' ', '_')"
   ]
  },
  {
   "cell_type": "code",
   "execution_count": 138,
   "id": "2f6bb384-e276-4334-b914-be6a33e9f0d0",
   "metadata": {},
   "outputs": [
    {
     "data": {
      "text/html": [
       "<div>\n",
       "<style scoped>\n",
       "    .dataframe tbody tr th:only-of-type {\n",
       "        vertical-align: middle;\n",
       "    }\n",
       "\n",
       "    .dataframe tbody tr th {\n",
       "        vertical-align: top;\n",
       "    }\n",
       "\n",
       "    .dataframe thead th {\n",
       "        text-align: right;\n",
       "    }\n",
       "</style>\n",
       "<table border=\"1\" class=\"dataframe\">\n",
       "  <thead>\n",
       "    <tr style=\"text-align: right;\">\n",
       "      <th></th>\n",
       "      <th>laptop</th>\n",
       "      <th>status</th>\n",
       "      <th>brand</th>\n",
       "      <th>model</th>\n",
       "      <th>cpu</th>\n",
       "      <th>ram</th>\n",
       "      <th>storage</th>\n",
       "      <th>storage_type</th>\n",
       "      <th>gpu</th>\n",
       "      <th>screen</th>\n",
       "      <th>touch</th>\n",
       "      <th>final_price</th>\n",
       "    </tr>\n",
       "  </thead>\n",
       "  <tbody>\n",
       "    <tr>\n",
       "      <th>0</th>\n",
       "      <td>ASUS ExpertBook B1 B1502CBA-EJ0436X Intel Core...</td>\n",
       "      <td>New</td>\n",
       "      <td>Asus</td>\n",
       "      <td>ExpertBook</td>\n",
       "      <td>Intel Core i5</td>\n",
       "      <td>8</td>\n",
       "      <td>512</td>\n",
       "      <td>SSD</td>\n",
       "      <td>NaN</td>\n",
       "      <td>15.6</td>\n",
       "      <td>No</td>\n",
       "      <td>1009.00</td>\n",
       "    </tr>\n",
       "    <tr>\n",
       "      <th>1</th>\n",
       "      <td>Alurin Go Start Intel Celeron N4020/8GB/256GB ...</td>\n",
       "      <td>New</td>\n",
       "      <td>Alurin</td>\n",
       "      <td>Go</td>\n",
       "      <td>Intel Celeron</td>\n",
       "      <td>8</td>\n",
       "      <td>256</td>\n",
       "      <td>SSD</td>\n",
       "      <td>NaN</td>\n",
       "      <td>15.6</td>\n",
       "      <td>No</td>\n",
       "      <td>299.00</td>\n",
       "    </tr>\n",
       "    <tr>\n",
       "      <th>2</th>\n",
       "      <td>ASUS ExpertBook B1 B1502CBA-EJ0424X Intel Core...</td>\n",
       "      <td>New</td>\n",
       "      <td>Asus</td>\n",
       "      <td>ExpertBook</td>\n",
       "      <td>Intel Core i3</td>\n",
       "      <td>8</td>\n",
       "      <td>256</td>\n",
       "      <td>SSD</td>\n",
       "      <td>NaN</td>\n",
       "      <td>15.6</td>\n",
       "      <td>No</td>\n",
       "      <td>789.00</td>\n",
       "    </tr>\n",
       "    <tr>\n",
       "      <th>3</th>\n",
       "      <td>MSI Katana GF66 12UC-082XES Intel Core i7-1270...</td>\n",
       "      <td>New</td>\n",
       "      <td>MSI</td>\n",
       "      <td>Katana</td>\n",
       "      <td>Intel Core i7</td>\n",
       "      <td>16</td>\n",
       "      <td>1000</td>\n",
       "      <td>SSD</td>\n",
       "      <td>RTX 3050</td>\n",
       "      <td>15.6</td>\n",
       "      <td>No</td>\n",
       "      <td>1199.00</td>\n",
       "    </tr>\n",
       "    <tr>\n",
       "      <th>4</th>\n",
       "      <td>HP 15S-FQ5085NS Intel Core i5-1235U/16GB/512GB...</td>\n",
       "      <td>New</td>\n",
       "      <td>HP</td>\n",
       "      <td>15S</td>\n",
       "      <td>Intel Core i5</td>\n",
       "      <td>16</td>\n",
       "      <td>512</td>\n",
       "      <td>SSD</td>\n",
       "      <td>NaN</td>\n",
       "      <td>15.6</td>\n",
       "      <td>No</td>\n",
       "      <td>669.01</td>\n",
       "    </tr>\n",
       "    <tr>\n",
       "      <th>...</th>\n",
       "      <td>...</td>\n",
       "      <td>...</td>\n",
       "      <td>...</td>\n",
       "      <td>...</td>\n",
       "      <td>...</td>\n",
       "      <td>...</td>\n",
       "      <td>...</td>\n",
       "      <td>...</td>\n",
       "      <td>...</td>\n",
       "      <td>...</td>\n",
       "      <td>...</td>\n",
       "      <td>...</td>\n",
       "    </tr>\n",
       "    <tr>\n",
       "      <th>2155</th>\n",
       "      <td>Razer Blade 17 FHD 360Hz Intel Core i7-11800H/...</td>\n",
       "      <td>Refurbished</td>\n",
       "      <td>Razer</td>\n",
       "      <td>Blade</td>\n",
       "      <td>Intel Core i7</td>\n",
       "      <td>16</td>\n",
       "      <td>1000</td>\n",
       "      <td>SSD</td>\n",
       "      <td>RTX 3060</td>\n",
       "      <td>17.3</td>\n",
       "      <td>No</td>\n",
       "      <td>2699.99</td>\n",
       "    </tr>\n",
       "    <tr>\n",
       "      <th>2156</th>\n",
       "      <td>Razer Blade 17 FHD 360Hz Intel Core i7-11800H/...</td>\n",
       "      <td>Refurbished</td>\n",
       "      <td>Razer</td>\n",
       "      <td>Blade</td>\n",
       "      <td>Intel Core i7</td>\n",
       "      <td>16</td>\n",
       "      <td>1000</td>\n",
       "      <td>SSD</td>\n",
       "      <td>RTX 3070</td>\n",
       "      <td>17.3</td>\n",
       "      <td>No</td>\n",
       "      <td>2899.99</td>\n",
       "    </tr>\n",
       "    <tr>\n",
       "      <th>2157</th>\n",
       "      <td>Razer Blade 17 FHD 360Hz Intel Core i7-11800H/...</td>\n",
       "      <td>Refurbished</td>\n",
       "      <td>Razer</td>\n",
       "      <td>Blade</td>\n",
       "      <td>Intel Core i7</td>\n",
       "      <td>32</td>\n",
       "      <td>1000</td>\n",
       "      <td>SSD</td>\n",
       "      <td>RTX 3080</td>\n",
       "      <td>17.3</td>\n",
       "      <td>No</td>\n",
       "      <td>3399.99</td>\n",
       "    </tr>\n",
       "    <tr>\n",
       "      <th>2158</th>\n",
       "      <td>Razer Book 13 Intel Evo Core i7-1165G7/16GB/1T...</td>\n",
       "      <td>Refurbished</td>\n",
       "      <td>Razer</td>\n",
       "      <td>Book</td>\n",
       "      <td>Intel Evo Core i7</td>\n",
       "      <td>16</td>\n",
       "      <td>1000</td>\n",
       "      <td>SSD</td>\n",
       "      <td>NaN</td>\n",
       "      <td>13.4</td>\n",
       "      <td>Yes</td>\n",
       "      <td>1899.99</td>\n",
       "    </tr>\n",
       "    <tr>\n",
       "      <th>2159</th>\n",
       "      <td>Razer Book FHD+ Intel Evo Core i7-1165G7/16GB/...</td>\n",
       "      <td>Refurbished</td>\n",
       "      <td>Razer</td>\n",
       "      <td>Book</td>\n",
       "      <td>Intel Evo Core i7</td>\n",
       "      <td>16</td>\n",
       "      <td>256</td>\n",
       "      <td>SSD</td>\n",
       "      <td>NaN</td>\n",
       "      <td>13.4</td>\n",
       "      <td>Yes</td>\n",
       "      <td>1699.99</td>\n",
       "    </tr>\n",
       "  </tbody>\n",
       "</table>\n",
       "<p>2160 rows × 12 columns</p>\n",
       "</div>"
      ],
      "text/plain": [
       "                                                 laptop       status   brand  \\\n",
       "0     ASUS ExpertBook B1 B1502CBA-EJ0436X Intel Core...          New    Asus   \n",
       "1     Alurin Go Start Intel Celeron N4020/8GB/256GB ...          New  Alurin   \n",
       "2     ASUS ExpertBook B1 B1502CBA-EJ0424X Intel Core...          New    Asus   \n",
       "3     MSI Katana GF66 12UC-082XES Intel Core i7-1270...          New     MSI   \n",
       "4     HP 15S-FQ5085NS Intel Core i5-1235U/16GB/512GB...          New      HP   \n",
       "...                                                 ...          ...     ...   \n",
       "2155  Razer Blade 17 FHD 360Hz Intel Core i7-11800H/...  Refurbished   Razer   \n",
       "2156  Razer Blade 17 FHD 360Hz Intel Core i7-11800H/...  Refurbished   Razer   \n",
       "2157  Razer Blade 17 FHD 360Hz Intel Core i7-11800H/...  Refurbished   Razer   \n",
       "2158  Razer Book 13 Intel Evo Core i7-1165G7/16GB/1T...  Refurbished   Razer   \n",
       "2159  Razer Book FHD+ Intel Evo Core i7-1165G7/16GB/...  Refurbished   Razer   \n",
       "\n",
       "           model                cpu  ram  storage storage_type       gpu  \\\n",
       "0     ExpertBook      Intel Core i5    8      512          SSD       NaN   \n",
       "1             Go      Intel Celeron    8      256          SSD       NaN   \n",
       "2     ExpertBook      Intel Core i3    8      256          SSD       NaN   \n",
       "3         Katana      Intel Core i7   16     1000          SSD  RTX 3050   \n",
       "4            15S      Intel Core i5   16      512          SSD       NaN   \n",
       "...          ...                ...  ...      ...          ...       ...   \n",
       "2155       Blade      Intel Core i7   16     1000          SSD  RTX 3060   \n",
       "2156       Blade      Intel Core i7   16     1000          SSD  RTX 3070   \n",
       "2157       Blade      Intel Core i7   32     1000          SSD  RTX 3080   \n",
       "2158        Book  Intel Evo Core i7   16     1000          SSD       NaN   \n",
       "2159        Book  Intel Evo Core i7   16      256          SSD       NaN   \n",
       "\n",
       "      screen touch  final_price  \n",
       "0       15.6    No      1009.00  \n",
       "1       15.6    No       299.00  \n",
       "2       15.6    No       789.00  \n",
       "3       15.6    No      1199.00  \n",
       "4       15.6    No       669.01  \n",
       "...      ...   ...          ...  \n",
       "2155    17.3    No      2699.99  \n",
       "2156    17.3    No      2899.99  \n",
       "2157    17.3    No      3399.99  \n",
       "2158    13.4   Yes      1899.99  \n",
       "2159    13.4   Yes      1699.99  \n",
       "\n",
       "[2160 rows x 12 columns]"
      ]
     },
     "execution_count": 138,
     "metadata": {},
     "output_type": "execute_result"
    }
   ],
   "source": [
    "df"
   ]
  },
  {
   "cell_type": "markdown",
   "id": "fcb1b396-e446-4b17-946b-65e16518a553",
   "metadata": {},
   "source": [
    "### Selecting columns"
   ]
  },
  {
   "cell_type": "code",
   "execution_count": 139,
   "id": "ea5bbac6-1cdb-411a-9b15-5c53d4bda1ea",
   "metadata": {},
   "outputs": [
    {
     "data": {
      "text/html": [
       "<div>\n",
       "<style scoped>\n",
       "    .dataframe tbody tr th:only-of-type {\n",
       "        vertical-align: middle;\n",
       "    }\n",
       "\n",
       "    .dataframe tbody tr th {\n",
       "        vertical-align: top;\n",
       "    }\n",
       "\n",
       "    .dataframe thead th {\n",
       "        text-align: right;\n",
       "    }\n",
       "</style>\n",
       "<table border=\"1\" class=\"dataframe\">\n",
       "  <thead>\n",
       "    <tr style=\"text-align: right;\">\n",
       "      <th></th>\n",
       "      <th>ram</th>\n",
       "      <th>storage</th>\n",
       "      <th>screen</th>\n",
       "      <th>final_price</th>\n",
       "    </tr>\n",
       "  </thead>\n",
       "  <tbody>\n",
       "    <tr>\n",
       "      <th>0</th>\n",
       "      <td>8</td>\n",
       "      <td>512</td>\n",
       "      <td>15.6</td>\n",
       "      <td>1009.00</td>\n",
       "    </tr>\n",
       "    <tr>\n",
       "      <th>1</th>\n",
       "      <td>8</td>\n",
       "      <td>256</td>\n",
       "      <td>15.6</td>\n",
       "      <td>299.00</td>\n",
       "    </tr>\n",
       "    <tr>\n",
       "      <th>2</th>\n",
       "      <td>8</td>\n",
       "      <td>256</td>\n",
       "      <td>15.6</td>\n",
       "      <td>789.00</td>\n",
       "    </tr>\n",
       "    <tr>\n",
       "      <th>3</th>\n",
       "      <td>16</td>\n",
       "      <td>1000</td>\n",
       "      <td>15.6</td>\n",
       "      <td>1199.00</td>\n",
       "    </tr>\n",
       "    <tr>\n",
       "      <th>4</th>\n",
       "      <td>16</td>\n",
       "      <td>512</td>\n",
       "      <td>15.6</td>\n",
       "      <td>669.01</td>\n",
       "    </tr>\n",
       "    <tr>\n",
       "      <th>...</th>\n",
       "      <td>...</td>\n",
       "      <td>...</td>\n",
       "      <td>...</td>\n",
       "      <td>...</td>\n",
       "    </tr>\n",
       "    <tr>\n",
       "      <th>2155</th>\n",
       "      <td>16</td>\n",
       "      <td>1000</td>\n",
       "      <td>17.3</td>\n",
       "      <td>2699.99</td>\n",
       "    </tr>\n",
       "    <tr>\n",
       "      <th>2156</th>\n",
       "      <td>16</td>\n",
       "      <td>1000</td>\n",
       "      <td>17.3</td>\n",
       "      <td>2899.99</td>\n",
       "    </tr>\n",
       "    <tr>\n",
       "      <th>2157</th>\n",
       "      <td>32</td>\n",
       "      <td>1000</td>\n",
       "      <td>17.3</td>\n",
       "      <td>3399.99</td>\n",
       "    </tr>\n",
       "    <tr>\n",
       "      <th>2158</th>\n",
       "      <td>16</td>\n",
       "      <td>1000</td>\n",
       "      <td>13.4</td>\n",
       "      <td>1899.99</td>\n",
       "    </tr>\n",
       "    <tr>\n",
       "      <th>2159</th>\n",
       "      <td>16</td>\n",
       "      <td>256</td>\n",
       "      <td>13.4</td>\n",
       "      <td>1699.99</td>\n",
       "    </tr>\n",
       "  </tbody>\n",
       "</table>\n",
       "<p>2160 rows × 4 columns</p>\n",
       "</div>"
      ],
      "text/plain": [
       "      ram  storage  screen  final_price\n",
       "0       8      512    15.6      1009.00\n",
       "1       8      256    15.6       299.00\n",
       "2       8      256    15.6       789.00\n",
       "3      16     1000    15.6      1199.00\n",
       "4      16      512    15.6       669.01\n",
       "...   ...      ...     ...          ...\n",
       "2155   16     1000    17.3      2699.99\n",
       "2156   16     1000    17.3      2899.99\n",
       "2157   32     1000    17.3      3399.99\n",
       "2158   16     1000    13.4      1899.99\n",
       "2159   16      256    13.4      1699.99\n",
       "\n",
       "[2160 rows x 4 columns]"
      ]
     },
     "execution_count": 139,
     "metadata": {},
     "output_type": "execute_result"
    }
   ],
   "source": [
    "df = df[['ram','storage','screen', 'final_price']]\n",
    "df"
   ]
  },
  {
   "cell_type": "markdown",
   "id": "4bcd65a6-3014-436c-a30e-1a3065740105",
   "metadata": {},
   "source": [
    "## EDA"
   ]
  },
  {
   "cell_type": "markdown",
   "id": "67d423d4-aa1f-41c1-8b1a-402995a480c4",
   "metadata": {},
   "source": [
    "**Question:** Has the final price a long tail?"
   ]
  },
  {
   "cell_type": "code",
   "execution_count": 140,
   "id": "c5c75944-6769-4f26-8537-0329232860a6",
   "metadata": {},
   "outputs": [
    {
     "data": {
      "text/plain": [
       "<Axes: xlabel='final_price', ylabel='Count'>"
      ]
     },
     "execution_count": 140,
     "metadata": {},
     "output_type": "execute_result"
    },
    {
     "data": {
      "image/png": "[encoded data removed]",
      "text/plain": [
       "<Figure size 640x480 with 1 Axes>"
      ]
     },
     "metadata": {},
     "output_type": "display_data"
    }
   ],
   "source": [
    "sns.histplot(df.final_price, bins=50)"
   ]
  },
  {
   "cell_type": "markdown",
   "id": "9537329c-e8f1-4ced-9f52-730b510e8e18",
   "metadata": {},
   "source": [
    "**Answer:** The final price has a long tail"
   ]
  },
  {
   "cell_type": "markdown",
   "id": "8369abe0-1f75-4178-93b3-9dd81e641241",
   "metadata": {},
   "source": [
    "# Question 1"
   ]
  },
  {
   "cell_type": "markdown",
   "id": "25642790-5326-4198-9e20-faa00f8b3086",
   "metadata": {},
   "source": [
    "Missing values ?"
   ]
  },
  {
   "cell_type": "code",
   "execution_count": 141,
   "id": "0049307f-9c89-46ae-bac3-ada46a89475e",
   "metadata": {},
   "outputs": [
    {
     "data": {
      "text/plain": [
       "ram            0\n",
       "storage        0\n",
       "screen         4\n",
       "final_price    0\n",
       "dtype: int64"
      ]
     },
     "execution_count": 141,
     "metadata": {},
     "output_type": "execute_result"
    }
   ],
   "source": [
    "df.isnull().sum()"
   ]
  },
  {
   "cell_type": "markdown",
   "id": "db57f4c6-4bc4-4fff-93b4-04c0f5da6abe",
   "metadata": {},
   "source": [
    "# Question 2"
   ]
  },
  {
   "cell_type": "markdown",
   "id": "014bf18a-b789-4ce8-bf56-1f6a782b57c4",
   "metadata": {},
   "source": [
    "What's the median for variable 'ram'?"
   ]
  },
  {
   "cell_type": "code",
   "execution_count": 142,
   "id": "aa8b45b3-2ce0-496f-bd0e-89387f36ee2b",
   "metadata": {},
   "outputs": [
    {
     "data": {
      "text/plain": [
       "np.float64(16.0)"
      ]
     },
     "execution_count": 142,
     "metadata": {},
     "output_type": "execute_result"
    }
   ],
   "source": [
    "df.ram.median()"
   ]
  },
  {
   "cell_type": "markdown",
   "id": "bac33905-a93e-43cf-a614-129327eab1ba",
   "metadata": {},
   "source": [
    "# Shuffle and split dataset"
   ]
  },
  {
   "cell_type": "code",
   "execution_count": 143,
   "id": "a3a3df9a-d865-4731-a42d-b561102a33ad",
   "metadata": {},
   "outputs": [
    {
     "data": {
      "text/plain": [
       "2160"
      ]
     },
     "execution_count": 143,
     "metadata": {},
     "output_type": "execute_result"
    }
   ],
   "source": [
    "n = len(df)\n",
    "n"
   ]
  },
  {
   "cell_type": "code",
   "execution_count": 144,
   "id": "cd4dcc84-63e6-4261-909f-47c27f084bbc",
   "metadata": {},
   "outputs": [],
   "source": [
    "n_val = int(n * 0.2)\n",
    "n_test = int(n * 0.2)\n",
    "n_train = n - n_val - n_test"
   ]
  },
  {
   "cell_type": "code",
   "execution_count": 145,
   "id": "58943c47-ec1d-4094-bc3b-64246430fcb2",
   "metadata": {},
   "outputs": [
    {
     "data": {
      "text/plain": [
       "(432, 432, 1296)"
      ]
     },
     "execution_count": 145,
     "metadata": {},
     "output_type": "execute_result"
    }
   ],
   "source": [
    "n_val, n_test, n_train"
   ]
  },
  {
   "cell_type": "code",
   "execution_count": 146,
   "id": "997c8ca4-8701-4e12-8aeb-42618d5195e3",
   "metadata": {},
   "outputs": [
    {
     "data": {
      "text/plain": [
       "array([   0,    1,    2, ..., 2157, 2158, 2159])"
      ]
     },
     "execution_count": 146,
     "metadata": {},
     "output_type": "execute_result"
    }
   ],
   "source": [
    "# shuffle\n",
    "idx = np.arange(n)\n",
    "idx"
   ]
  },
  {
   "cell_type": "code",
   "execution_count": 147,
   "id": "f791bc84-3b2f-4c82-b648-21b3936d030f",
   "metadata": {},
   "outputs": [
    {
     "data": {
      "text/plain": [
       "array([2079,  668, 2073, ..., 1130, 1294,  860])"
      ]
     },
     "execution_count": 147,
     "metadata": {},
     "output_type": "execute_result"
    }
   ],
   "source": [
    "np.random.seed(42)\n",
    "np.random.shuffle(idx)\n",
    "idx"
   ]
  },
  {
   "cell_type": "code",
   "execution_count": 148,
   "id": "449853e7-aea7-472b-a830-3d270f5523b8",
   "metadata": {},
   "outputs": [],
   "source": [
    "#split\n",
    "df_train = df.iloc[idx[:n_train]]\n",
    "df_val = df.iloc[idx[n_train:n_train+n_val]]\n",
    "df_test = df.iloc[idx[n_train+n_val:]]"
   ]
  },
  {
   "cell_type": "code",
   "execution_count": 149,
   "id": "8b6758e9-1e47-4cb3-b9d1-4c3f17fe1a3d",
   "metadata": {},
   "outputs": [
    {
     "data": {
      "text/html": [
       "<div>\n",
       "<style scoped>\n",
       "    .dataframe tbody tr th:only-of-type {\n",
       "        vertical-align: middle;\n",
       "    }\n",
       "\n",
       "    .dataframe tbody tr th {\n",
       "        vertical-align: top;\n",
       "    }\n",
       "\n",
       "    .dataframe thead th {\n",
       "        text-align: right;\n",
       "    }\n",
       "</style>\n",
       "<table border=\"1\" class=\"dataframe\">\n",
       "  <thead>\n",
       "    <tr style=\"text-align: right;\">\n",
       "      <th></th>\n",
       "      <th>ram</th>\n",
       "      <th>storage</th>\n",
       "      <th>screen</th>\n",
       "      <th>final_price</th>\n",
       "    </tr>\n",
       "  </thead>\n",
       "  <tbody>\n",
       "    <tr>\n",
       "      <th>2079</th>\n",
       "      <td>32</td>\n",
       "      <td>1000</td>\n",
       "      <td>15.6</td>\n",
       "      <td>1123.29</td>\n",
       "    </tr>\n",
       "    <tr>\n",
       "      <th>668</th>\n",
       "      <td>4</td>\n",
       "      <td>64</td>\n",
       "      <td>14.1</td>\n",
       "      <td>201.05</td>\n",
       "    </tr>\n",
       "    <tr>\n",
       "      <th>2073</th>\n",
       "      <td>32</td>\n",
       "      <td>1000</td>\n",
       "      <td>14.0</td>\n",
       "      <td>997.74</td>\n",
       "    </tr>\n",
       "    <tr>\n",
       "      <th>1113</th>\n",
       "      <td>16</td>\n",
       "      <td>512</td>\n",
       "      <td>13.3</td>\n",
       "      <td>1016.00</td>\n",
       "    </tr>\n",
       "    <tr>\n",
       "      <th>788</th>\n",
       "      <td>32</td>\n",
       "      <td>1000</td>\n",
       "      <td>16.0</td>\n",
       "      <td>2739.00</td>\n",
       "    </tr>\n",
       "  </tbody>\n",
       "</table>\n",
       "</div>"
      ],
      "text/plain": [
       "      ram  storage  screen  final_price\n",
       "2079   32     1000    15.6      1123.29\n",
       "668     4       64    14.1       201.05\n",
       "2073   32     1000    14.0       997.74\n",
       "1113   16      512    13.3      1016.00\n",
       "788    32     1000    16.0      2739.00"
      ]
     },
     "execution_count": 149,
     "metadata": {},
     "output_type": "execute_result"
    }
   ],
   "source": [
    "df_train.head()"
   ]
  },
  {
   "cell_type": "markdown",
   "id": "31035771-76c5-458e-aa44-0b6cb6ed8279",
   "metadata": {},
   "source": [
    "# Question 3"
   ]
  },
  {
   "cell_type": "markdown",
   "id": "4a792d84-d0e6-48de-ba6e-0bb3e95d9c77",
   "metadata": {},
   "source": [
    "Replace NaNs in column screen with 0 , mean or is there no difference?"
   ]
  },
  {
   "cell_type": "code",
   "execution_count": 150,
   "id": "7b768200-55af-4a18-ba26-7dd6999f4635",
   "metadata": {},
   "outputs": [
    {
     "data": {
      "text/plain": [
       "np.float64(15.163534416086618)"
      ]
     },
     "execution_count": 150,
     "metadata": {},
     "output_type": "execute_result"
    }
   ],
   "source": [
    "mean = df_train.screen.mean()\n",
    "mean"
   ]
  },
  {
   "cell_type": "code",
   "execution_count": 151,
   "id": "7992f86f-f2b5-4158-8eb6-c5c46206c587",
   "metadata": {},
   "outputs": [],
   "source": [
    "df_train = df_train.reset_index(drop=True)\n",
    "df_val = df_val.reset_index(drop=True)\n",
    "df_test = df_test.reset_index(drop=True)"
   ]
  },
  {
   "cell_type": "code",
   "execution_count": 152,
   "id": "6f1bf9a7-04bc-4f41-b79d-3778927e4bfa",
   "metadata": {},
   "outputs": [
    {
     "data": {
      "text/plain": [
       "array([7.024907  , 5.30851519, 6.90649448, ..., 6.96602419, 7.42177579,\n",
       "       6.96318999])"
      ]
     },
     "execution_count": 152,
     "metadata": {},
     "output_type": "execute_result"
    }
   ],
   "source": [
    "y_train = np.log1p(df_train.final_price.values)\n",
    "y_val = np.log1p(df_val.final_price.values)\n",
    "y_test = np.log1p(df_test.final_price.values)\n",
    "\n",
    "y_train"
   ]
  },
  {
   "cell_type": "code",
   "execution_count": 153,
   "id": "f6fd28f3-2887-4c99-a6d9-6c6834492466",
   "metadata": {},
   "outputs": [],
   "source": [
    "del df_train['final_price']\n",
    "del df_val['final_price']\n",
    "del df_test['final_price']"
   ]
  },
  {
   "cell_type": "code",
   "execution_count": 154,
   "id": "4125dcf2-edf0-4158-8eea-e1d1c78f9602",
   "metadata": {},
   "outputs": [
    {
     "data": {
      "text/plain": [
       "1296"
      ]
     },
     "execution_count": 154,
     "metadata": {},
     "output_type": "execute_result"
    }
   ],
   "source": [
    "len(df_train)"
   ]
  },
  {
   "cell_type": "code",
   "execution_count": 155,
   "id": "acfbae63-63e0-46ad-b465-84727bca4436",
   "metadata": {},
   "outputs": [
    {
     "data": {
      "text/plain": [
       "Index(['ram', 'storage', 'screen'], dtype='object')"
      ]
     },
     "execution_count": 155,
     "metadata": {},
     "output_type": "execute_result"
    }
   ],
   "source": [
    "df_train.columns"
   ]
  },
  {
   "cell_type": "code",
   "execution_count": 156,
   "id": "c8128739-cbac-45d6-95be-5af0c12b5fc4",
   "metadata": {},
   "outputs": [],
   "source": [
    "base = ['ram', 'storage', 'screen']\n",
    "def prepare_X(df, newValue):\n",
    "    df = df.copy()\n",
    "    features = base\n",
    "    \n",
    "    df_num = df[features]\n",
    "    df_num = df_num.fillna(newValue)\n",
    "    X = df_num.values\n",
    "\n",
    "    return X"
   ]
  },
  {
   "cell_type": "code",
   "execution_count": 157,
   "id": "76aff17d-d5fa-45f0-a5db-8ef3f4ec08d9",
   "metadata": {},
   "outputs": [],
   "source": [
    "def train_linear_regression(X, y):\n",
    "    ones = np.ones(X.shape[0])\n",
    "    X = np.column_stack([ones, X])\n",
    "\n",
    "    XTX = X.T.dot(X)\n",
    "    XTX_inv = np.linalg.inv(XTX)\n",
    "    w_full = XTX_inv.dot(X.T).dot(y)\n",
    "    \n",
    "    return w_full[0], w_full[1:]"
   ]
  },
  {
   "cell_type": "code",
   "execution_count": 158,
   "id": "859e7ca0-1abf-46e0-923e-c5f5c5b4b62e",
   "metadata": {},
   "outputs": [],
   "source": [
    "def rmse(y, y_pred):\n",
    "    se = (y - y_pred) ** 2\n",
    "    mse = se.mean()\n",
    "    return np.sqrt(mse)"
   ]
  },
  {
   "cell_type": "markdown",
   "id": "ffe8ec4a-2964-4b6f-8817-3fe0920d8286",
   "metadata": {},
   "source": [
    "## Test to replace NaN with 0"
   ]
  },
  {
   "cell_type": "code",
   "execution_count": 159,
   "id": "9830b8b9-d9ba-4df5-bb85-1d9542998bf4",
   "metadata": {},
   "outputs": [
    {
     "data": {
      "text/plain": [
       "np.float64(0.43)"
      ]
     },
     "execution_count": 159,
     "metadata": {},
     "output_type": "execute_result"
    }
   ],
   "source": [
    "X_train = prepare_X(df_train, 0)\n",
    "w0, w = train_linear_regression(X_train, y_train)\n",
    "\n",
    "X_val = prepare_X(df_val, 0)\n",
    "y_pred = w0 + X_val.dot(w)\n",
    "score = rmse(y_val, y_pred)\n",
    "round(score, 2)"
   ]
  },
  {
   "cell_type": "code",
   "execution_count": 160,
   "id": "dae7f0ae-04e8-480d-aba4-9ef1a343ff0e",
   "metadata": {},
   "outputs": [
    {
     "data": {
      "text/plain": [
       "<Axes: ylabel='Count'>"
      ]
     },
     "execution_count": 160,
     "metadata": {},
     "output_type": "execute_result"
    },
    {
     "data": {
      "image/png": "[encoded data removed]",
      "text/plain": [
       "<Figure size 640x480 with 1 Axes>"
      ]
     },
     "metadata": {},
     "output_type": "display_data"
    }
   ],
   "source": [
    "sns.histplot(y_pred, color='red', alpha=0.5, bins=50)\n",
    "sns.histplot(y_train, color='blue', alpha=0.5, bins=50)"
   ]
  },
  {
   "cell_type": "markdown",
   "id": "a30cf6e7-8fab-4d8a-94f0-05d856b17a74",
   "metadata": {},
   "source": [
    "## Test to replace NaN with mean"
   ]
  },
  {
   "cell_type": "code",
   "execution_count": 161,
   "id": "7fcf1087-3cb7-4e6c-80f5-5cede02835a6",
   "metadata": {},
   "outputs": [
    {
     "data": {
      "text/plain": [
       "np.float64(0.43)"
      ]
     },
     "execution_count": 161,
     "metadata": {},
     "output_type": "execute_result"
    }
   ],
   "source": [
    "X_train = prepare_X(df_train, mean)\n",
    "w0, w = train_linear_regression(X_train, y_train)\n",
    "\n",
    "X_val = prepare_X(df_val, mean)\n",
    "y_pred = w0 + X_val.dot(w)\n",
    "score = rmse(y_val, y_pred)\n",
    "round(score, 2)"
   ]
  },
  {
   "cell_type": "code",
   "execution_count": 162,
   "id": "1cdb5037-8b24-4e27-8043-1968907fda1c",
   "metadata": {},
   "outputs": [
    {
     "data": {
      "text/plain": [
       "<Axes: ylabel='Count'>"
      ]
     },
     "execution_count": 162,
     "metadata": {},
     "output_type": "execute_result"
    },
    {
     "data": {
      "image/png": "[encoded data removed]",
      "text/plain": [
       "<Figure size 640x480 with 1 Axes>"
      ]
     },
     "metadata": {},
     "output_type": "display_data"
    }
   ],
   "source": [
    "sns.histplot(y_pred, color='red', alpha=0.5, bins=50)\n",
    "sns.histplot(y_train, color='blue', alpha=0.5, bins=50)"
   ]
  },
  {
   "cell_type": "markdown",
   "id": "e4050561-b27e-4cce-b87c-1263ad4723f8",
   "metadata": {},
   "source": [
    "**Answer:** The mean is in both cases 0.43 so it makes no difference, what you use."
   ]
  },
  {
   "cell_type": "markdown",
   "id": "bbcadafc-71d1-438a-a05f-02aa20acd027",
   "metadata": {},
   "source": [
    "# Question 4\n",
    "Train a regularized linear regression. Try different values of r from this list [0, 0.01, 0.1, 1, 5, 10, 100] and replace the NAs with 0. Round the RMSE scores to 2 decimal digits.\n",
    "\n",
    "**Which r gives the best RMSE?**"
   ]
  },
  {
   "cell_type": "code",
   "execution_count": 166,
   "id": "0d020663-be3b-4172-9620-958bd61e5c99",
   "metadata": {},
   "outputs": [],
   "source": [
    "def train_linear_regression_reg(X, y, r=0.001):\n",
    "    ones = np.ones(X.shape[0])\n",
    "    X = np.column_stack([ones, X])\n",
    "\n",
    "    XTX = X.T.dot(X)\n",
    "    XTX = XTX + r * np.eye(XTX.shape[0])\n",
    "\n",
    "    XTX_inv = np.linalg.inv(XTX)\n",
    "    w_full = XTX_inv.dot(X.T).dot(y)\n",
    "    \n",
    "    return w_full[0], w_full[1:]"
   ]
  },
  {
   "cell_type": "code",
   "execution_count": 168,
   "id": "1e7e6313-93f5-4a0a-a019-a69297e5f0af",
   "metadata": {},
   "outputs": [
    {
     "name": "stdout",
     "output_type": "stream",
     "text": [
      "0 6.727163706112961 0.43\n",
      "0.01 6.721004333260485 0.43\n",
      "0.1 6.66607550382847 0.43\n",
      "1 6.162616499461258 0.43\n",
      "5 4.6160861764976975 0.46\n",
      "10 3.5167547207936636 0.51\n",
      "100 0.6849263362659601 0.67\n"
     ]
    }
   ],
   "source": [
    "for r in [0, 0.01, 0.1, 1, 5, 10, 100]:\n",
    "    X_train = prepare_X(df_train, 0)\n",
    "    w0, w = train_linear_regression_reg(X_train, y_train, r=r)\n",
    "\n",
    "    X_val = prepare_X(df_val, 0)\n",
    "    y_pred = w0 + X_val.dot(w)\n",
    "    score = rmse(y_val, y_pred)\n",
    "    \n",
    "    print(r, w0, round(score,2))"
   ]
  },
  {
   "cell_type": "markdown",
   "id": "7cd6868b-d5c3-41ff-b643-0955e4205b3d",
   "metadata": {},
   "source": [
    "# Question 5\n",
    "\n",
    "- We used seed 42 for splitting the data. Let's find out how selecting the seed influences our score.\n",
    "- Try different seed values: [0, 1, 2, 3, 4, 5, 6, 7, 8, 9].\n",
    "- For each seed, do the train/validation/test split with 60%/20%/20% distribution.\n",
    "- Fill the missing values with 0 and train a model without regularization.\n",
    "- For each seed, evaluate the model on the validation dataset and collect the RMSE scores.\n",
    "- What's the standard deviation of all the scores? To compute the standard deviation, `use np.std`.\n",
    "- Round the result to 3 decimal digits (`round(std, 3)`)\n",
    " \n",
    "**Question:**\n",
    "\n",
    "What's the value of std?\n",
    "\n",
    "- 19.176\n",
    "- 29.176\n",
    "- 39.176\n",
    "- 49.176\n",
    "\n",
    ">Note: Standard deviation shows how different the values are. If it's low, then all values are approximately the same. If it's high, the values are different. If standard deviation of scores is low, then our model is stable."
   ]
  },
  {
   "cell_type": "code",
   "execution_count": 181,
   "id": "1bf5b0f5-6858-4a94-b7a8-a5aed96d71e0",
   "metadata": {},
   "outputs": [],
   "source": [
    "seed_values = [0, 1, 2, 3, 4, 5, 6, 7, 8, 9]"
   ]
  },
  {
   "cell_type": "code",
   "execution_count": 204,
   "id": "aaf6c3f4-0a97-4b4d-afd9-67b431dac25c",
   "metadata": {},
   "outputs": [
    {
     "data": {
      "text/plain": [
       "array([ 945,  424, 1544, ..., 2121, 1424, 1725])"
      ]
     },
     "execution_count": 204,
     "metadata": {},
     "output_type": "execute_result"
    }
   ],
   "source": [
    "def shuffle_index_with_seed(seed):\n",
    "    n = len(df)\n",
    "    idx = np.arange(n) # create ordered index with n elements\n",
    "    np.random.seed(seed)\n",
    "    np.random.shuffle(idx)\n",
    "    \n",
    "    return idx\n",
    "\n",
    "shuffle_index_with_seed(5)"
   ]
  },
  {
   "cell_type": "code",
   "execution_count": 200,
   "id": "c76eb562-6ed6-4156-acfc-a941b7d095b3",
   "metadata": {},
   "outputs": [
    {
     "name": "stdout",
     "output_type": "stream",
     "text": [
      "[   0    1    2 ... 2157 2158 2159]\n",
      "[ 175  264 2131 ...  763  835 1653]\n",
      "[ 175  264 2131 ...  763  835 1653]\n",
      "[   0    1    2 ... 2157 2158 2159]\n",
      "[ 986  389   65 ... 1096  235 1061]\n",
      "[ 986  389   65 ... 1096  235 1061]\n",
      "[   0    1    2 ... 2157 2158 2159]\n",
      "[1510 1766  370 ...  674 1099 1608]\n",
      "[1510 1766  370 ...  674 1099 1608]\n",
      "[   0    1    2 ... 2157 2158 2159]\n",
      "[ 679  632  756 ... 1667 1688 1898]\n",
      "[ 679  632  756 ... 1667 1688 1898]\n",
      "[   0    1    2 ... 2157 2158 2159]\n",
      "[1089 1023  189 ...  709  174 1146]\n",
      "[1089 1023  189 ...  709  174 1146]\n",
      "[   0    1    2 ... 2157 2158 2159]\n",
      "[ 945  424 1544 ... 2121 1424 1725]\n",
      "[ 945  424 1544 ... 2121 1424 1725]\n",
      "[   0    1    2 ... 2157 2158 2159]\n",
      "[2020  263  925 ...  618 2004  227]\n",
      "[2020  263  925 ...  618 2004  227]\n",
      "[   0    1    2 ... 2157 2158 2159]\n",
      "[1288  262 2137 ...  537 1220  175]\n",
      "[1288  262 2137 ...  537 1220  175]\n",
      "[   0    1    2 ... 2157 2158 2159]\n",
      "[ 916 2016  332 ... 2033 1364  451]\n",
      "[ 916 2016  332 ... 2033 1364  451]\n",
      "[   0    1    2 ... 2157 2158 2159]\n",
      "[2003  502  896 ...  501  348  382]\n",
      "[2003  502  896 ...  501  348  382]\n"
     ]
    }
   ],
   "source": [
    "idx = 0\n",
    "\n",
    "for seed in seed_values:\n",
    "    idx = shuffle_index_with_seed(seed)\n",
    "    print (idx)\n",
    "    X_train = prepare_X(df_train, 0)\n",
    "    w0, w = train_linear_regression(X_train, y_train)\n",
    "\n",
    "    X_val = prepare_X(df_val, mean)\n",
    "    y_pred = w0 + X_val.dot(w)\n",
    "    score = rmse(y_val, y_pred)"
   ]
  },
  {
   "cell_type": "code",
   "execution_count": 201,
   "id": "f14f19d8-b5c1-4961-991d-25d10aa3c395",
   "metadata": {},
   "outputs": [],
   "source": [
    "np.arange(len(df))\n",
    "np.random.seed(5)"
   ]
  },
  {
   "cell_type": "code",
   "execution_count": 202,
   "id": "2727ba8c-8ebb-4eee-ad61-1896b2d71e4d",
   "metadata": {},
   "outputs": [],
   "source": [
    "idx = np.random.shuffle(idx)\n",
    "idx"
   ]
  },
  {
   "cell_type": "code",
   "execution_count": null,
   "id": "2adcf55a-830e-4c11-8526-e38d7b65f28b",
   "metadata": {},
   "outputs": [],
   "source": []
  }
 ],
 "metadata": {
  "kernelspec": {
   "display_name": "Python 3 (ipykernel)",
   "language": "python",
   "name": "python3"
  },
  "language_info": {
   "codemirror_mode": {
    "name": "ipython",
    "version": 3
   },
   "file_extension": ".py",
   "mimetype": "text/x-python",
   "name": "python",
   "nbconvert_exporter": "python",
   "pygments_lexer": "ipython3",
   "version": "3.12.6"
  }
 },
 "nbformat": 4,
 "nbformat_minor": 5
}
